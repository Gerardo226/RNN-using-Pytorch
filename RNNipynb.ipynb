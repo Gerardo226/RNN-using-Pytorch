{
  "nbformat": 4,
  "nbformat_minor": 0,
  "metadata": {
    "colab": {
      "provenance": [],
      "gpuType": "T4"
    },
    "kernelspec": {
      "name": "python3",
      "display_name": "Python 3"
    },
    "language_info": {
      "name": "python"
    },
    "accelerator": "GPU"
  },
  "cells": [
    {
      "cell_type": "code",
      "source": [
        "import torch\n",
        "from torch import nn\n",
        "from torch import optim\n",
        "import torchtext\n",
        "from torchtext import data\n",
        "from torchtext import datasets\n",
        "from rich.console import Console\n",
        "from rich.table import Table\n",
        "from rich.panel import Panel\n",
        "from rich.progress import track\n",
        "from rich.text import Text\n",
        "\n",
        "\n",
        "\n",
        "\n",
        "\n",
        "# Define the fields for the text and labels\n",
        "TEXT = data.Field(sequential=True, batch_first=True, lower=True)\n",
        "LABEL = data.LabelField()\n",
        "\n",
        "# Load data splits\n",
        "train_data, val_data, test_data = datasets.SST.splits(TEXT, LABEL)\n",
        "\n",
        "# Build vocabulary\n",
        "TEXT.build_vocab(train_data)\n",
        "LABEL.build_vocab(train_data)\n",
        "\n",
        "# Hyperparameters\n",
        "vocab_size = len(TEXT.vocab)\n",
        "label_size = len(LABEL.vocab)  # Number of classes\n",
        "padding_idx = TEXT.vocab.stoi[TEXT.pad_token]  # Access pad_token correctly\n",
        "embedding_dim = 128\n",
        "hidden_dim = 128\n",
        "\n",
        "\n",
        "# Build iterators\n",
        "train_iter, val_iter, test_iter = data.BucketIterator.splits(\n",
        "    (train_data, val_data, test_data),\n",
        "    batch_size=32,\n",
        "    sort_within_batch=True,\n",
        "    sort_key=lambda x: len(x.text)\n",
        ")\n",
        "\n",
        "class RNN(nn.Module):\n",
        "    def __init__(self, i_size, output_size, hidden_dim, number_layers, padding_idx):\n",
        "        super(RNN, self).__init__()\n",
        "        self.hidden_dim = hidden_dim\n",
        "        self.n_layers = n_layers\n",
        "        self.embedding = nn.Embedding(i_size, embedding_dim, padding_idx=padding_idx)\n",
        "        self.rnn = nn.RNN(embedding_dim, hidden_dim, number_layers, batch_first=True)\n",
        "        self.fc = nn.Linear(hidden_dim, output_size)\n",
        "\n",
        "    def forward(self, x, hidden=None):\n",
        "        if hidden is None:\n",
        "            # Initialize hidden state with zeros if not provided\n",
        "            batch_size = x.size(0)\n",
        "            hidden = torch.zeros(self.n_layers, batch_size, self.hidden_dim).to(x.device)\n",
        "\n",
        "        # Pass through embedding layer\n",
        "        x = self.embedding(x)\n",
        "\n",
        "        # RNN layer\n",
        "        r_out, hidden = self.rnn(x, hidden)\n",
        "\n",
        "        # Get the output from the last time step\n",
        "        r_out = r_out[:, -1, :]  # Take the output of the last time step\n",
        "\n",
        "        # Fully connected layer\n",
        "        output = self.fc(r_out)\n",
        "        return output  # Return logits\n",
        "\n",
        "# Initialize model, criterion, and optimizer\n",
        "model = RNN(vocab_size, label_size, hidden_dim, number_layers, padding_idx)\n",
        "criterion = nn.CrossEntropyLoss()\n",
        "optimizer = optim.Adam(model.parameters(), lr=0.001)\n",
        "\n",
        "# Define training function\n",
        "def train_model(model, iterator, criterion, optimizer):\n",
        "    model.train()\n",
        "    epoch_loss = 0\n",
        "    epoch_acc = 0\n",
        "\n",
        "    for batch in iterator:\n",
        "        text, labels = batch.text, batch.label\n",
        "        optimizer.zero_grad()\n",
        "        predictions = model(text)\n",
        "        loss = criterion(predictions, labels)\n",
        "        acc = (predictions.argmax(dim=1) == labels).float().mean()\n",
        "        loss.backward()\n",
        "        optimizer.step()\n",
        "\n",
        "        epoch_loss += loss.item()\n",
        "        epoch_acc += acc.item()\n",
        "\n",
        "    return epoch_loss / len(iterator), epoch_acc / len(iterator)\n",
        "\n",
        "# Define evaluation function\n",
        "def evaluate_model(model, iterator, criterion):\n",
        "    model.eval()\n",
        "    epoch_loss = 0\n",
        "    epoch_acc = 0\n",
        "\n",
        "    with torch.no_grad():\n",
        "        for batch in iterator:\n",
        "            text, labels = batch.text, batch.label\n",
        "            predictions = model(text)\n",
        "            loss = criterion(predictions, labels)\n",
        "            acc = (predictions.argmax(dim=1) == labels).float().mean()\n",
        "\n",
        "            epoch_loss += loss.item()\n",
        "            epoch_acc += acc.item()\n",
        "\n",
        "    return epoch_loss / len(iterator), epoch_acc / len(iterator)\n",
        "\n",
        "\n",
        "\n"
      ],
      "metadata": {
        "id": "VWBmEHDQSArp"
      },
      "execution_count": null,
      "outputs": []
    },
    {
      "cell_type": "code",
      "source": [],
      "metadata": {
        "id": "qPEumgvkUWqu"
      },
      "execution_count": null,
      "outputs": []
    },
    {
      "cell_type": "code",
      "source": [
        "def train_and_evaluate(model, train_iter, val_iter, criterion, optimizer, n_epochs=5):\n",
        "    for epoch in range(n_epochs):\n",
        "        train_loss, train_acc = train_model(model, train_iter, criterion, optimizer)\n",
        "        val_loss, val_acc = evaluate_model(model, val_iter, criterion)\n",
        "\n",
        "        epoch_panel = Panel(\n",
        "            f\"Epoch {epoch + 1:02}/{n_epochs:02}\",\n",
        "            title=\"Training Progress\",\n",
        "            title_align=\"left\",\n",
        "            border_style=\"bold cyan\",\n",
        "            padding=(1, 2)\n",
        "        )\n",
        "\n",
        "        # Create a summary panel\n",
        "        summary_panel = Panel(\n",
        "            f\"Train Loss: {train_loss:.4f}\\nTrain Accuracy: {train_acc:.4f}\\n\"\n",
        "            f\"Validation Loss: {val_loss:.4f}\\nValidation Accuracy: {val_acc:.4f}\",\n",
        "            title=\"Summary\",\n",
        "            border_style=\"bold red\",\n",
        "            padding=(1, 2)\n",
        "        )\n",
        "\n",
        "        # Display the results\n",
        "        console.print(epoch_panel)\n",
        "        console.print(summary_panel)\n",
        "        console.print(\"\\n\" + \"--\" * 57)\n",
        "\n",
        "# Call the training and evaluation function\n",
        "train_and_evaluate(model, train_iter, val_iter, criterion, optimizer, n_epochs=10)"
      ],
      "metadata": {
        "colab": {
          "base_uri": "https://localhost:8080/",
          "height": 1000
        },
        "id": "YJdiLL19Tk6z",
        "outputId": "da8d6a67-e478-4633-fb9b-18bbc63cbd6f"
      },
      "execution_count": null,
      "outputs": [
        {
          "output_type": "display_data",
          "data": {
            "text/plain": [
              "\u001b[1;36m╭─\u001b[0m\u001b[1;36m Training Progress \u001b[0m\u001b[1;36m────────────────────────────────────────────────────────────────────────────────────────────\u001b[0m\u001b[1;36m─╮\u001b[0m\n",
              "\u001b[1;36m│\u001b[0m                                                                                                                 \u001b[1;36m│\u001b[0m\n",
              "\u001b[1;36m│\u001b[0m  Epoch 01/10                                                                                                    \u001b[1;36m│\u001b[0m\n",
              "\u001b[1;36m│\u001b[0m                                                                                                                 \u001b[1;36m│\u001b[0m\n",
              "\u001b[1;36m╰─────────────────────────────────────────────────────────────────────────────────────────────────────────────────╯\u001b[0m\n"
            ],
            "text/html": [
              "<pre style=\"white-space:pre;overflow-x:auto;line-height:normal;font-family:Menlo,'DejaVu Sans Mono',consolas,'Courier New',monospace\"><span style=\"color: #008080; text-decoration-color: #008080; font-weight: bold\">╭─ Training Progress ─────────────────────────────────────────────────────────────────────────────────────────────╮</span>\n",
              "<span style=\"color: #008080; text-decoration-color: #008080; font-weight: bold\">│</span>                                                                                                                 <span style=\"color: #008080; text-decoration-color: #008080; font-weight: bold\">│</span>\n",
              "<span style=\"color: #008080; text-decoration-color: #008080; font-weight: bold\">│</span>  Epoch 01/10                                                                                                    <span style=\"color: #008080; text-decoration-color: #008080; font-weight: bold\">│</span>\n",
              "<span style=\"color: #008080; text-decoration-color: #008080; font-weight: bold\">│</span>                                                                                                                 <span style=\"color: #008080; text-decoration-color: #008080; font-weight: bold\">│</span>\n",
              "<span style=\"color: #008080; text-decoration-color: #008080; font-weight: bold\">╰─────────────────────────────────────────────────────────────────────────────────────────────────────────────────╯</span>\n",
              "</pre>\n"
            ]
          },
          "metadata": {}
        },
        {
          "output_type": "display_data",
          "data": {
            "text/plain": [
              "\u001b[1;31m╭─\u001b[0m\u001b[1;31m───────────────────────────────────────────────────\u001b[0m\u001b[1;31m Summary \u001b[0m\u001b[1;31m───────────────────────────────────────────────────\u001b[0m\u001b[1;31m─╮\u001b[0m\n",
              "\u001b[1;31m│\u001b[0m                                                                                                                 \u001b[1;31m│\u001b[0m\n",
              "\u001b[1;31m│\u001b[0m  Train Loss: 1.0577                                                                                             \u001b[1;31m│\u001b[0m\n",
              "\u001b[1;31m│\u001b[0m  Train Accuracy: 0.4286                                                                                         \u001b[1;31m│\u001b[0m\n",
              "\u001b[1;31m│\u001b[0m  Validation Loss: 1.0211                                                                                        \u001b[1;31m│\u001b[0m\n",
              "\u001b[1;31m│\u001b[0m  Validation Accuracy: 0.5012                                                                                    \u001b[1;31m│\u001b[0m\n",
              "\u001b[1;31m│\u001b[0m                                                                                                                 \u001b[1;31m│\u001b[0m\n",
              "\u001b[1;31m╰─────────────────────────────────────────────────────────────────────────────────────────────────────────────────╯\u001b[0m\n"
            ],
            "text/html": [
              "<pre style=\"white-space:pre;overflow-x:auto;line-height:normal;font-family:Menlo,'DejaVu Sans Mono',consolas,'Courier New',monospace\"><span style=\"color: #800000; text-decoration-color: #800000; font-weight: bold\">╭──────────────────────────────────────────────────── Summary ────────────────────────────────────────────────────╮</span>\n",
              "<span style=\"color: #800000; text-decoration-color: #800000; font-weight: bold\">│</span>                                                                                                                 <span style=\"color: #800000; text-decoration-color: #800000; font-weight: bold\">│</span>\n",
              "<span style=\"color: #800000; text-decoration-color: #800000; font-weight: bold\">│</span>  Train Loss: 1.0577                                                                                             <span style=\"color: #800000; text-decoration-color: #800000; font-weight: bold\">│</span>\n",
              "<span style=\"color: #800000; text-decoration-color: #800000; font-weight: bold\">│</span>  Train Accuracy: 0.4286                                                                                         <span style=\"color: #800000; text-decoration-color: #800000; font-weight: bold\">│</span>\n",
              "<span style=\"color: #800000; text-decoration-color: #800000; font-weight: bold\">│</span>  Validation Loss: 1.0211                                                                                        <span style=\"color: #800000; text-decoration-color: #800000; font-weight: bold\">│</span>\n",
              "<span style=\"color: #800000; text-decoration-color: #800000; font-weight: bold\">│</span>  Validation Accuracy: 0.5012                                                                                    <span style=\"color: #800000; text-decoration-color: #800000; font-weight: bold\">│</span>\n",
              "<span style=\"color: #800000; text-decoration-color: #800000; font-weight: bold\">│</span>                                                                                                                 <span style=\"color: #800000; text-decoration-color: #800000; font-weight: bold\">│</span>\n",
              "<span style=\"color: #800000; text-decoration-color: #800000; font-weight: bold\">╰─────────────────────────────────────────────────────────────────────────────────────────────────────────────────╯</span>\n",
              "</pre>\n"
            ]
          },
          "metadata": {}
        },
        {
          "output_type": "display_data",
          "data": {
            "text/plain": [
              "\n",
              "------------------------------------------------------------------------------------------------------------------\n"
            ],
            "text/html": [
              "<pre style=\"white-space:pre;overflow-x:auto;line-height:normal;font-family:Menlo,'DejaVu Sans Mono',consolas,'Courier New',monospace\">\n",
              "------------------------------------------------------------------------------------------------------------------\n",
              "</pre>\n"
            ]
          },
          "metadata": {}
        },
        {
          "output_type": "display_data",
          "data": {
            "text/plain": [
              "\u001b[1;36m╭─\u001b[0m\u001b[1;36m Training Progress \u001b[0m\u001b[1;36m────────────────────────────────────────────────────────────────────────────────────────────\u001b[0m\u001b[1;36m─╮\u001b[0m\n",
              "\u001b[1;36m│\u001b[0m                                                                                                                 \u001b[1;36m│\u001b[0m\n",
              "\u001b[1;36m│\u001b[0m  Epoch 02/10                                                                                                    \u001b[1;36m│\u001b[0m\n",
              "\u001b[1;36m│\u001b[0m                                                                                                                 \u001b[1;36m│\u001b[0m\n",
              "\u001b[1;36m╰─────────────────────────────────────────────────────────────────────────────────────────────────────────────────╯\u001b[0m\n"
            ],
            "text/html": [
              "<pre style=\"white-space:pre;overflow-x:auto;line-height:normal;font-family:Menlo,'DejaVu Sans Mono',consolas,'Courier New',monospace\"><span style=\"color: #008080; text-decoration-color: #008080; font-weight: bold\">╭─ Training Progress ─────────────────────────────────────────────────────────────────────────────────────────────╮</span>\n",
              "<span style=\"color: #008080; text-decoration-color: #008080; font-weight: bold\">│</span>                                                                                                                 <span style=\"color: #008080; text-decoration-color: #008080; font-weight: bold\">│</span>\n",
              "<span style=\"color: #008080; text-decoration-color: #008080; font-weight: bold\">│</span>  Epoch 02/10                                                                                                    <span style=\"color: #008080; text-decoration-color: #008080; font-weight: bold\">│</span>\n",
              "<span style=\"color: #008080; text-decoration-color: #008080; font-weight: bold\">│</span>                                                                                                                 <span style=\"color: #008080; text-decoration-color: #008080; font-weight: bold\">│</span>\n",
              "<span style=\"color: #008080; text-decoration-color: #008080; font-weight: bold\">╰─────────────────────────────────────────────────────────────────────────────────────────────────────────────────╯</span>\n",
              "</pre>\n"
            ]
          },
          "metadata": {}
        },
        {
          "output_type": "display_data",
          "data": {
            "text/plain": [
              "\u001b[1;31m╭─\u001b[0m\u001b[1;31m───────────────────────────────────────────────────\u001b[0m\u001b[1;31m Summary \u001b[0m\u001b[1;31m───────────────────────────────────────────────────\u001b[0m\u001b[1;31m─╮\u001b[0m\n",
              "\u001b[1;31m│\u001b[0m                                                                                                                 \u001b[1;31m│\u001b[0m\n",
              "\u001b[1;31m│\u001b[0m  Train Loss: 0.9815                                                                                             \u001b[1;31m│\u001b[0m\n",
              "\u001b[1;31m│\u001b[0m  Train Accuracy: 0.5369                                                                                         \u001b[1;31m│\u001b[0m\n",
              "\u001b[1;31m│\u001b[0m  Validation Loss: 0.9811                                                                                        \u001b[1;31m│\u001b[0m\n",
              "\u001b[1;31m│\u001b[0m  Validation Accuracy: 0.5413                                                                                    \u001b[1;31m│\u001b[0m\n",
              "\u001b[1;31m│\u001b[0m                                                                                                                 \u001b[1;31m│\u001b[0m\n",
              "\u001b[1;31m╰─────────────────────────────────────────────────────────────────────────────────────────────────────────────────╯\u001b[0m\n"
            ],
            "text/html": [
              "<pre style=\"white-space:pre;overflow-x:auto;line-height:normal;font-family:Menlo,'DejaVu Sans Mono',consolas,'Courier New',monospace\"><span style=\"color: #800000; text-decoration-color: #800000; font-weight: bold\">╭──────────────────────────────────────────────────── Summary ────────────────────────────────────────────────────╮</span>\n",
              "<span style=\"color: #800000; text-decoration-color: #800000; font-weight: bold\">│</span>                                                                                                                 <span style=\"color: #800000; text-decoration-color: #800000; font-weight: bold\">│</span>\n",
              "<span style=\"color: #800000; text-decoration-color: #800000; font-weight: bold\">│</span>  Train Loss: 0.9815                                                                                             <span style=\"color: #800000; text-decoration-color: #800000; font-weight: bold\">│</span>\n",
              "<span style=\"color: #800000; text-decoration-color: #800000; font-weight: bold\">│</span>  Train Accuracy: 0.5369                                                                                         <span style=\"color: #800000; text-decoration-color: #800000; font-weight: bold\">│</span>\n",
              "<span style=\"color: #800000; text-decoration-color: #800000; font-weight: bold\">│</span>  Validation Loss: 0.9811                                                                                        <span style=\"color: #800000; text-decoration-color: #800000; font-weight: bold\">│</span>\n",
              "<span style=\"color: #800000; text-decoration-color: #800000; font-weight: bold\">│</span>  Validation Accuracy: 0.5413                                                                                    <span style=\"color: #800000; text-decoration-color: #800000; font-weight: bold\">│</span>\n",
              "<span style=\"color: #800000; text-decoration-color: #800000; font-weight: bold\">│</span>                                                                                                                 <span style=\"color: #800000; text-decoration-color: #800000; font-weight: bold\">│</span>\n",
              "<span style=\"color: #800000; text-decoration-color: #800000; font-weight: bold\">╰─────────────────────────────────────────────────────────────────────────────────────────────────────────────────╯</span>\n",
              "</pre>\n"
            ]
          },
          "metadata": {}
        },
        {
          "output_type": "display_data",
          "data": {
            "text/plain": [
              "\n",
              "------------------------------------------------------------------------------------------------------------------\n"
            ],
            "text/html": [
              "<pre style=\"white-space:pre;overflow-x:auto;line-height:normal;font-family:Menlo,'DejaVu Sans Mono',consolas,'Courier New',monospace\">\n",
              "------------------------------------------------------------------------------------------------------------------\n",
              "</pre>\n"
            ]
          },
          "metadata": {}
        },
        {
          "output_type": "display_data",
          "data": {
            "text/plain": [
              "\u001b[1;36m╭─\u001b[0m\u001b[1;36m Training Progress \u001b[0m\u001b[1;36m────────────────────────────────────────────────────────────────────────────────────────────\u001b[0m\u001b[1;36m─╮\u001b[0m\n",
              "\u001b[1;36m│\u001b[0m                                                                                                                 \u001b[1;36m│\u001b[0m\n",
              "\u001b[1;36m│\u001b[0m  Epoch 03/10                                                                                                    \u001b[1;36m│\u001b[0m\n",
              "\u001b[1;36m│\u001b[0m                                                                                                                 \u001b[1;36m│\u001b[0m\n",
              "\u001b[1;36m╰─────────────────────────────────────────────────────────────────────────────────────────────────────────────────╯\u001b[0m\n"
            ],
            "text/html": [
              "<pre style=\"white-space:pre;overflow-x:auto;line-height:normal;font-family:Menlo,'DejaVu Sans Mono',consolas,'Courier New',monospace\"><span style=\"color: #008080; text-decoration-color: #008080; font-weight: bold\">╭─ Training Progress ─────────────────────────────────────────────────────────────────────────────────────────────╮</span>\n",
              "<span style=\"color: #008080; text-decoration-color: #008080; font-weight: bold\">│</span>                                                                                                                 <span style=\"color: #008080; text-decoration-color: #008080; font-weight: bold\">│</span>\n",
              "<span style=\"color: #008080; text-decoration-color: #008080; font-weight: bold\">│</span>  Epoch 03/10                                                                                                    <span style=\"color: #008080; text-decoration-color: #008080; font-weight: bold\">│</span>\n",
              "<span style=\"color: #008080; text-decoration-color: #008080; font-weight: bold\">│</span>                                                                                                                 <span style=\"color: #008080; text-decoration-color: #008080; font-weight: bold\">│</span>\n",
              "<span style=\"color: #008080; text-decoration-color: #008080; font-weight: bold\">╰─────────────────────────────────────────────────────────────────────────────────────────────────────────────────╯</span>\n",
              "</pre>\n"
            ]
          },
          "metadata": {}
        },
        {
          "output_type": "display_data",
          "data": {
            "text/plain": [
              "\u001b[1;31m╭─\u001b[0m\u001b[1;31m───────────────────────────────────────────────────\u001b[0m\u001b[1;31m Summary \u001b[0m\u001b[1;31m───────────────────────────────────────────────────\u001b[0m\u001b[1;31m─╮\u001b[0m\n",
              "\u001b[1;31m│\u001b[0m                                                                                                                 \u001b[1;31m│\u001b[0m\n",
              "\u001b[1;31m│\u001b[0m  Train Loss: 0.8781                                                                                             \u001b[1;31m│\u001b[0m\n",
              "\u001b[1;31m│\u001b[0m  Train Accuracy: 0.6142                                                                                         \u001b[1;31m│\u001b[0m\n",
              "\u001b[1;31m│\u001b[0m  Validation Loss: 1.0146                                                                                        \u001b[1;31m│\u001b[0m\n",
              "\u001b[1;31m│\u001b[0m  Validation Accuracy: 0.5672                                                                                    \u001b[1;31m│\u001b[0m\n",
              "\u001b[1;31m│\u001b[0m                                                                                                                 \u001b[1;31m│\u001b[0m\n",
              "\u001b[1;31m╰─────────────────────────────────────────────────────────────────────────────────────────────────────────────────╯\u001b[0m\n"
            ],
            "text/html": [
              "<pre style=\"white-space:pre;overflow-x:auto;line-height:normal;font-family:Menlo,'DejaVu Sans Mono',consolas,'Courier New',monospace\"><span style=\"color: #800000; text-decoration-color: #800000; font-weight: bold\">╭──────────────────────────────────────────────────── Summary ────────────────────────────────────────────────────╮</span>\n",
              "<span style=\"color: #800000; text-decoration-color: #800000; font-weight: bold\">│</span>                                                                                                                 <span style=\"color: #800000; text-decoration-color: #800000; font-weight: bold\">│</span>\n",
              "<span style=\"color: #800000; text-decoration-color: #800000; font-weight: bold\">│</span>  Train Loss: 0.8781                                                                                             <span style=\"color: #800000; text-decoration-color: #800000; font-weight: bold\">│</span>\n",
              "<span style=\"color: #800000; text-decoration-color: #800000; font-weight: bold\">│</span>  Train Accuracy: 0.6142                                                                                         <span style=\"color: #800000; text-decoration-color: #800000; font-weight: bold\">│</span>\n",
              "<span style=\"color: #800000; text-decoration-color: #800000; font-weight: bold\">│</span>  Validation Loss: 1.0146                                                                                        <span style=\"color: #800000; text-decoration-color: #800000; font-weight: bold\">│</span>\n",
              "<span style=\"color: #800000; text-decoration-color: #800000; font-weight: bold\">│</span>  Validation Accuracy: 0.5672                                                                                    <span style=\"color: #800000; text-decoration-color: #800000; font-weight: bold\">│</span>\n",
              "<span style=\"color: #800000; text-decoration-color: #800000; font-weight: bold\">│</span>                                                                                                                 <span style=\"color: #800000; text-decoration-color: #800000; font-weight: bold\">│</span>\n",
              "<span style=\"color: #800000; text-decoration-color: #800000; font-weight: bold\">╰─────────────────────────────────────────────────────────────────────────────────────────────────────────────────╯</span>\n",
              "</pre>\n"
            ]
          },
          "metadata": {}
        },
        {
          "output_type": "display_data",
          "data": {
            "text/plain": [
              "\n",
              "------------------------------------------------------------------------------------------------------------------\n"
            ],
            "text/html": [
              "<pre style=\"white-space:pre;overflow-x:auto;line-height:normal;font-family:Menlo,'DejaVu Sans Mono',consolas,'Courier New',monospace\">\n",
              "------------------------------------------------------------------------------------------------------------------\n",
              "</pre>\n"
            ]
          },
          "metadata": {}
        },
        {
          "output_type": "display_data",
          "data": {
            "text/plain": [
              "\u001b[1;36m╭─\u001b[0m\u001b[1;36m Training Progress \u001b[0m\u001b[1;36m────────────────────────────────────────────────────────────────────────────────────────────\u001b[0m\u001b[1;36m─╮\u001b[0m\n",
              "\u001b[1;36m│\u001b[0m                                                                                                                 \u001b[1;36m│\u001b[0m\n",
              "\u001b[1;36m│\u001b[0m  Epoch 04/10                                                                                                    \u001b[1;36m│\u001b[0m\n",
              "\u001b[1;36m│\u001b[0m                                                                                                                 \u001b[1;36m│\u001b[0m\n",
              "\u001b[1;36m╰─────────────────────────────────────────────────────────────────────────────────────────────────────────────────╯\u001b[0m\n"
            ],
            "text/html": [
              "<pre style=\"white-space:pre;overflow-x:auto;line-height:normal;font-family:Menlo,'DejaVu Sans Mono',consolas,'Courier New',monospace\"><span style=\"color: #008080; text-decoration-color: #008080; font-weight: bold\">╭─ Training Progress ─────────────────────────────────────────────────────────────────────────────────────────────╮</span>\n",
              "<span style=\"color: #008080; text-decoration-color: #008080; font-weight: bold\">│</span>                                                                                                                 <span style=\"color: #008080; text-decoration-color: #008080; font-weight: bold\">│</span>\n",
              "<span style=\"color: #008080; text-decoration-color: #008080; font-weight: bold\">│</span>  Epoch 04/10                                                                                                    <span style=\"color: #008080; text-decoration-color: #008080; font-weight: bold\">│</span>\n",
              "<span style=\"color: #008080; text-decoration-color: #008080; font-weight: bold\">│</span>                                                                                                                 <span style=\"color: #008080; text-decoration-color: #008080; font-weight: bold\">│</span>\n",
              "<span style=\"color: #008080; text-decoration-color: #008080; font-weight: bold\">╰─────────────────────────────────────────────────────────────────────────────────────────────────────────────────╯</span>\n",
              "</pre>\n"
            ]
          },
          "metadata": {}
        },
        {
          "output_type": "display_data",
          "data": {
            "text/plain": [
              "\u001b[1;31m╭─\u001b[0m\u001b[1;31m───────────────────────────────────────────────────\u001b[0m\u001b[1;31m Summary \u001b[0m\u001b[1;31m───────────────────────────────────────────────────\u001b[0m\u001b[1;31m─╮\u001b[0m\n",
              "\u001b[1;31m│\u001b[0m                                                                                                                 \u001b[1;31m│\u001b[0m\n",
              "\u001b[1;31m│\u001b[0m  Train Loss: 0.7973                                                                                             \u001b[1;31m│\u001b[0m\n",
              "\u001b[1;31m│\u001b[0m  Train Accuracy: 0.6561                                                                                         \u001b[1;31m│\u001b[0m\n",
              "\u001b[1;31m│\u001b[0m  Validation Loss: 1.0132                                                                                        \u001b[1;31m│\u001b[0m\n",
              "\u001b[1;31m│\u001b[0m  Validation Accuracy: 0.5556                                                                                    \u001b[1;31m│\u001b[0m\n",
              "\u001b[1;31m│\u001b[0m                                                                                                                 \u001b[1;31m│\u001b[0m\n",
              "\u001b[1;31m╰─────────────────────────────────────────────────────────────────────────────────────────────────────────────────╯\u001b[0m\n"
            ],
            "text/html": [
              "<pre style=\"white-space:pre;overflow-x:auto;line-height:normal;font-family:Menlo,'DejaVu Sans Mono',consolas,'Courier New',monospace\"><span style=\"color: #800000; text-decoration-color: #800000; font-weight: bold\">╭──────────────────────────────────────────────────── Summary ────────────────────────────────────────────────────╮</span>\n",
              "<span style=\"color: #800000; text-decoration-color: #800000; font-weight: bold\">│</span>                                                                                                                 <span style=\"color: #800000; text-decoration-color: #800000; font-weight: bold\">│</span>\n",
              "<span style=\"color: #800000; text-decoration-color: #800000; font-weight: bold\">│</span>  Train Loss: 0.7973                                                                                             <span style=\"color: #800000; text-decoration-color: #800000; font-weight: bold\">│</span>\n",
              "<span style=\"color: #800000; text-decoration-color: #800000; font-weight: bold\">│</span>  Train Accuracy: 0.6561                                                                                         <span style=\"color: #800000; text-decoration-color: #800000; font-weight: bold\">│</span>\n",
              "<span style=\"color: #800000; text-decoration-color: #800000; font-weight: bold\">│</span>  Validation Loss: 1.0132                                                                                        <span style=\"color: #800000; text-decoration-color: #800000; font-weight: bold\">│</span>\n",
              "<span style=\"color: #800000; text-decoration-color: #800000; font-weight: bold\">│</span>  Validation Accuracy: 0.5556                                                                                    <span style=\"color: #800000; text-decoration-color: #800000; font-weight: bold\">│</span>\n",
              "<span style=\"color: #800000; text-decoration-color: #800000; font-weight: bold\">│</span>                                                                                                                 <span style=\"color: #800000; text-decoration-color: #800000; font-weight: bold\">│</span>\n",
              "<span style=\"color: #800000; text-decoration-color: #800000; font-weight: bold\">╰─────────────────────────────────────────────────────────────────────────────────────────────────────────────────╯</span>\n",
              "</pre>\n"
            ]
          },
          "metadata": {}
        },
        {
          "output_type": "display_data",
          "data": {
            "text/plain": [
              "\n",
              "------------------------------------------------------------------------------------------------------------------\n"
            ],
            "text/html": [
              "<pre style=\"white-space:pre;overflow-x:auto;line-height:normal;font-family:Menlo,'DejaVu Sans Mono',consolas,'Courier New',monospace\">\n",
              "------------------------------------------------------------------------------------------------------------------\n",
              "</pre>\n"
            ]
          },
          "metadata": {}
        },
        {
          "output_type": "display_data",
          "data": {
            "text/plain": [
              "\u001b[1;36m╭─\u001b[0m\u001b[1;36m Training Progress \u001b[0m\u001b[1;36m────────────────────────────────────────────────────────────────────────────────────────────\u001b[0m\u001b[1;36m─╮\u001b[0m\n",
              "\u001b[1;36m│\u001b[0m                                                                                                                 \u001b[1;36m│\u001b[0m\n",
              "\u001b[1;36m│\u001b[0m  Epoch 05/10                                                                                                    \u001b[1;36m│\u001b[0m\n",
              "\u001b[1;36m│\u001b[0m                                                                                                                 \u001b[1;36m│\u001b[0m\n",
              "\u001b[1;36m╰─────────────────────────────────────────────────────────────────────────────────────────────────────────────────╯\u001b[0m\n"
            ],
            "text/html": [
              "<pre style=\"white-space:pre;overflow-x:auto;line-height:normal;font-family:Menlo,'DejaVu Sans Mono',consolas,'Courier New',monospace\"><span style=\"color: #008080; text-decoration-color: #008080; font-weight: bold\">╭─ Training Progress ─────────────────────────────────────────────────────────────────────────────────────────────╮</span>\n",
              "<span style=\"color: #008080; text-decoration-color: #008080; font-weight: bold\">│</span>                                                                                                                 <span style=\"color: #008080; text-decoration-color: #008080; font-weight: bold\">│</span>\n",
              "<span style=\"color: #008080; text-decoration-color: #008080; font-weight: bold\">│</span>  Epoch 05/10                                                                                                    <span style=\"color: #008080; text-decoration-color: #008080; font-weight: bold\">│</span>\n",
              "<span style=\"color: #008080; text-decoration-color: #008080; font-weight: bold\">│</span>                                                                                                                 <span style=\"color: #008080; text-decoration-color: #008080; font-weight: bold\">│</span>\n",
              "<span style=\"color: #008080; text-decoration-color: #008080; font-weight: bold\">╰─────────────────────────────────────────────────────────────────────────────────────────────────────────────────╯</span>\n",
              "</pre>\n"
            ]
          },
          "metadata": {}
        },
        {
          "output_type": "display_data",
          "data": {
            "text/plain": [
              "\u001b[1;31m╭─\u001b[0m\u001b[1;31m───────────────────────────────────────────────────\u001b[0m\u001b[1;31m Summary \u001b[0m\u001b[1;31m───────────────────────────────────────────────────\u001b[0m\u001b[1;31m─╮\u001b[0m\n",
              "\u001b[1;31m│\u001b[0m                                                                                                                 \u001b[1;31m│\u001b[0m\n",
              "\u001b[1;31m│\u001b[0m  Train Loss: 0.6612                                                                                             \u001b[1;31m│\u001b[0m\n",
              "\u001b[1;31m│\u001b[0m  Train Accuracy: 0.7361                                                                                         \u001b[1;31m│\u001b[0m\n",
              "\u001b[1;31m│\u001b[0m  Validation Loss: 1.0515                                                                                        \u001b[1;31m│\u001b[0m\n",
              "\u001b[1;31m│\u001b[0m  Validation Accuracy: 0.5877                                                                                    \u001b[1;31m│\u001b[0m\n",
              "\u001b[1;31m│\u001b[0m                                                                                                                 \u001b[1;31m│\u001b[0m\n",
              "\u001b[1;31m╰─────────────────────────────────────────────────────────────────────────────────────────────────────────────────╯\u001b[0m\n"
            ],
            "text/html": [
              "<pre style=\"white-space:pre;overflow-x:auto;line-height:normal;font-family:Menlo,'DejaVu Sans Mono',consolas,'Courier New',monospace\"><span style=\"color: #800000; text-decoration-color: #800000; font-weight: bold\">╭──────────────────────────────────────────────────── Summary ────────────────────────────────────────────────────╮</span>\n",
              "<span style=\"color: #800000; text-decoration-color: #800000; font-weight: bold\">│</span>                                                                                                                 <span style=\"color: #800000; text-decoration-color: #800000; font-weight: bold\">│</span>\n",
              "<span style=\"color: #800000; text-decoration-color: #800000; font-weight: bold\">│</span>  Train Loss: 0.6612                                                                                             <span style=\"color: #800000; text-decoration-color: #800000; font-weight: bold\">│</span>\n",
              "<span style=\"color: #800000; text-decoration-color: #800000; font-weight: bold\">│</span>  Train Accuracy: 0.7361                                                                                         <span style=\"color: #800000; text-decoration-color: #800000; font-weight: bold\">│</span>\n",
              "<span style=\"color: #800000; text-decoration-color: #800000; font-weight: bold\">│</span>  Validation Loss: 1.0515                                                                                        <span style=\"color: #800000; text-decoration-color: #800000; font-weight: bold\">│</span>\n",
              "<span style=\"color: #800000; text-decoration-color: #800000; font-weight: bold\">│</span>  Validation Accuracy: 0.5877                                                                                    <span style=\"color: #800000; text-decoration-color: #800000; font-weight: bold\">│</span>\n",
              "<span style=\"color: #800000; text-decoration-color: #800000; font-weight: bold\">│</span>                                                                                                                 <span style=\"color: #800000; text-decoration-color: #800000; font-weight: bold\">│</span>\n",
              "<span style=\"color: #800000; text-decoration-color: #800000; font-weight: bold\">╰─────────────────────────────────────────────────────────────────────────────────────────────────────────────────╯</span>\n",
              "</pre>\n"
            ]
          },
          "metadata": {}
        },
        {
          "output_type": "display_data",
          "data": {
            "text/plain": [
              "\n",
              "------------------------------------------------------------------------------------------------------------------\n"
            ],
            "text/html": [
              "<pre style=\"white-space:pre;overflow-x:auto;line-height:normal;font-family:Menlo,'DejaVu Sans Mono',consolas,'Courier New',monospace\">\n",
              "------------------------------------------------------------------------------------------------------------------\n",
              "</pre>\n"
            ]
          },
          "metadata": {}
        },
        {
          "output_type": "display_data",
          "data": {
            "text/plain": [
              "\u001b[1;36m╭─\u001b[0m\u001b[1;36m Training Progress \u001b[0m\u001b[1;36m────────────────────────────────────────────────────────────────────────────────────────────\u001b[0m\u001b[1;36m─╮\u001b[0m\n",
              "\u001b[1;36m│\u001b[0m                                                                                                                 \u001b[1;36m│\u001b[0m\n",
              "\u001b[1;36m│\u001b[0m  Epoch 06/10                                                                                                    \u001b[1;36m│\u001b[0m\n",
              "\u001b[1;36m│\u001b[0m                                                                                                                 \u001b[1;36m│\u001b[0m\n",
              "\u001b[1;36m╰─────────────────────────────────────────────────────────────────────────────────────────────────────────────────╯\u001b[0m\n"
            ],
            "text/html": [
              "<pre style=\"white-space:pre;overflow-x:auto;line-height:normal;font-family:Menlo,'DejaVu Sans Mono',consolas,'Courier New',monospace\"><span style=\"color: #008080; text-decoration-color: #008080; font-weight: bold\">╭─ Training Progress ─────────────────────────────────────────────────────────────────────────────────────────────╮</span>\n",
              "<span style=\"color: #008080; text-decoration-color: #008080; font-weight: bold\">│</span>                                                                                                                 <span style=\"color: #008080; text-decoration-color: #008080; font-weight: bold\">│</span>\n",
              "<span style=\"color: #008080; text-decoration-color: #008080; font-weight: bold\">│</span>  Epoch 06/10                                                                                                    <span style=\"color: #008080; text-decoration-color: #008080; font-weight: bold\">│</span>\n",
              "<span style=\"color: #008080; text-decoration-color: #008080; font-weight: bold\">│</span>                                                                                                                 <span style=\"color: #008080; text-decoration-color: #008080; font-weight: bold\">│</span>\n",
              "<span style=\"color: #008080; text-decoration-color: #008080; font-weight: bold\">╰─────────────────────────────────────────────────────────────────────────────────────────────────────────────────╯</span>\n",
              "</pre>\n"
            ]
          },
          "metadata": {}
        },
        {
          "output_type": "display_data",
          "data": {
            "text/plain": [
              "\u001b[1;31m╭─\u001b[0m\u001b[1;31m───────────────────────────────────────────────────\u001b[0m\u001b[1;31m Summary \u001b[0m\u001b[1;31m───────────────────────────────────────────────────\u001b[0m\u001b[1;31m─╮\u001b[0m\n",
              "\u001b[1;31m│\u001b[0m                                                                                                                 \u001b[1;31m│\u001b[0m\n",
              "\u001b[1;31m│\u001b[0m  Train Loss: 0.5428                                                                                             \u001b[1;31m│\u001b[0m\n",
              "\u001b[1;31m│\u001b[0m  Train Accuracy: 0.7934                                                                                         \u001b[1;31m│\u001b[0m\n",
              "\u001b[1;31m│\u001b[0m  Validation Loss: 1.1028                                                                                        \u001b[1;31m│\u001b[0m\n",
              "\u001b[1;31m│\u001b[0m  Validation Accuracy: 0.5641                                                                                    \u001b[1;31m│\u001b[0m\n",
              "\u001b[1;31m│\u001b[0m                                                                                                                 \u001b[1;31m│\u001b[0m\n",
              "\u001b[1;31m╰─────────────────────────────────────────────────────────────────────────────────────────────────────────────────╯\u001b[0m\n"
            ],
            "text/html": [
              "<pre style=\"white-space:pre;overflow-x:auto;line-height:normal;font-family:Menlo,'DejaVu Sans Mono',consolas,'Courier New',monospace\"><span style=\"color: #800000; text-decoration-color: #800000; font-weight: bold\">╭──────────────────────────────────────────────────── Summary ────────────────────────────────────────────────────╮</span>\n",
              "<span style=\"color: #800000; text-decoration-color: #800000; font-weight: bold\">│</span>                                                                                                                 <span style=\"color: #800000; text-decoration-color: #800000; font-weight: bold\">│</span>\n",
              "<span style=\"color: #800000; text-decoration-color: #800000; font-weight: bold\">│</span>  Train Loss: 0.5428                                                                                             <span style=\"color: #800000; text-decoration-color: #800000; font-weight: bold\">│</span>\n",
              "<span style=\"color: #800000; text-decoration-color: #800000; font-weight: bold\">│</span>  Train Accuracy: 0.7934                                                                                         <span style=\"color: #800000; text-decoration-color: #800000; font-weight: bold\">│</span>\n",
              "<span style=\"color: #800000; text-decoration-color: #800000; font-weight: bold\">│</span>  Validation Loss: 1.1028                                                                                        <span style=\"color: #800000; text-decoration-color: #800000; font-weight: bold\">│</span>\n",
              "<span style=\"color: #800000; text-decoration-color: #800000; font-weight: bold\">│</span>  Validation Accuracy: 0.5641                                                                                    <span style=\"color: #800000; text-decoration-color: #800000; font-weight: bold\">│</span>\n",
              "<span style=\"color: #800000; text-decoration-color: #800000; font-weight: bold\">│</span>                                                                                                                 <span style=\"color: #800000; text-decoration-color: #800000; font-weight: bold\">│</span>\n",
              "<span style=\"color: #800000; text-decoration-color: #800000; font-weight: bold\">╰─────────────────────────────────────────────────────────────────────────────────────────────────────────────────╯</span>\n",
              "</pre>\n"
            ]
          },
          "metadata": {}
        },
        {
          "output_type": "display_data",
          "data": {
            "text/plain": [
              "\n",
              "------------------------------------------------------------------------------------------------------------------\n"
            ],
            "text/html": [
              "<pre style=\"white-space:pre;overflow-x:auto;line-height:normal;font-family:Menlo,'DejaVu Sans Mono',consolas,'Courier New',monospace\">\n",
              "------------------------------------------------------------------------------------------------------------------\n",
              "</pre>\n"
            ]
          },
          "metadata": {}
        },
        {
          "output_type": "display_data",
          "data": {
            "text/plain": [
              "\u001b[1;36m╭─\u001b[0m\u001b[1;36m Training Progress \u001b[0m\u001b[1;36m────────────────────────────────────────────────────────────────────────────────────────────\u001b[0m\u001b[1;36m─╮\u001b[0m\n",
              "\u001b[1;36m│\u001b[0m                                                                                                                 \u001b[1;36m│\u001b[0m\n",
              "\u001b[1;36m│\u001b[0m  Epoch 07/10                                                                                                    \u001b[1;36m│\u001b[0m\n",
              "\u001b[1;36m│\u001b[0m                                                                                                                 \u001b[1;36m│\u001b[0m\n",
              "\u001b[1;36m╰─────────────────────────────────────────────────────────────────────────────────────────────────────────────────╯\u001b[0m\n"
            ],
            "text/html": [
              "<pre style=\"white-space:pre;overflow-x:auto;line-height:normal;font-family:Menlo,'DejaVu Sans Mono',consolas,'Courier New',monospace\"><span style=\"color: #008080; text-decoration-color: #008080; font-weight: bold\">╭─ Training Progress ─────────────────────────────────────────────────────────────────────────────────────────────╮</span>\n",
              "<span style=\"color: #008080; text-decoration-color: #008080; font-weight: bold\">│</span>                                                                                                                 <span style=\"color: #008080; text-decoration-color: #008080; font-weight: bold\">│</span>\n",
              "<span style=\"color: #008080; text-decoration-color: #008080; font-weight: bold\">│</span>  Epoch 07/10                                                                                                    <span style=\"color: #008080; text-decoration-color: #008080; font-weight: bold\">│</span>\n",
              "<span style=\"color: #008080; text-decoration-color: #008080; font-weight: bold\">│</span>                                                                                                                 <span style=\"color: #008080; text-decoration-color: #008080; font-weight: bold\">│</span>\n",
              "<span style=\"color: #008080; text-decoration-color: #008080; font-weight: bold\">╰─────────────────────────────────────────────────────────────────────────────────────────────────────────────────╯</span>\n",
              "</pre>\n"
            ]
          },
          "metadata": {}
        },
        {
          "output_type": "display_data",
          "data": {
            "text/plain": [
              "\u001b[1;31m╭─\u001b[0m\u001b[1;31m───────────────────────────────────────────────────\u001b[0m\u001b[1;31m Summary \u001b[0m\u001b[1;31m───────────────────────────────────────────────────\u001b[0m\u001b[1;31m─╮\u001b[0m\n",
              "\u001b[1;31m│\u001b[0m                                                                                                                 \u001b[1;31m│\u001b[0m\n",
              "\u001b[1;31m│\u001b[0m  Train Loss: 0.4355                                                                                             \u001b[1;31m│\u001b[0m\n",
              "\u001b[1;31m│\u001b[0m  Train Accuracy: 0.8373                                                                                         \u001b[1;31m│\u001b[0m\n",
              "\u001b[1;31m│\u001b[0m  Validation Loss: 1.2397                                                                                        \u001b[1;31m│\u001b[0m\n",
              "\u001b[1;31m│\u001b[0m  Validation Accuracy: 0.5868                                                                                    \u001b[1;31m│\u001b[0m\n",
              "\u001b[1;31m│\u001b[0m                                                                                                                 \u001b[1;31m│\u001b[0m\n",
              "\u001b[1;31m╰─────────────────────────────────────────────────────────────────────────────────────────────────────────────────╯\u001b[0m\n"
            ],
            "text/html": [
              "<pre style=\"white-space:pre;overflow-x:auto;line-height:normal;font-family:Menlo,'DejaVu Sans Mono',consolas,'Courier New',monospace\"><span style=\"color: #800000; text-decoration-color: #800000; font-weight: bold\">╭──────────────────────────────────────────────────── Summary ────────────────────────────────────────────────────╮</span>\n",
              "<span style=\"color: #800000; text-decoration-color: #800000; font-weight: bold\">│</span>                                                                                                                 <span style=\"color: #800000; text-decoration-color: #800000; font-weight: bold\">│</span>\n",
              "<span style=\"color: #800000; text-decoration-color: #800000; font-weight: bold\">│</span>  Train Loss: 0.4355                                                                                             <span style=\"color: #800000; text-decoration-color: #800000; font-weight: bold\">│</span>\n",
              "<span style=\"color: #800000; text-decoration-color: #800000; font-weight: bold\">│</span>  Train Accuracy: 0.8373                                                                                         <span style=\"color: #800000; text-decoration-color: #800000; font-weight: bold\">│</span>\n",
              "<span style=\"color: #800000; text-decoration-color: #800000; font-weight: bold\">│</span>  Validation Loss: 1.2397                                                                                        <span style=\"color: #800000; text-decoration-color: #800000; font-weight: bold\">│</span>\n",
              "<span style=\"color: #800000; text-decoration-color: #800000; font-weight: bold\">│</span>  Validation Accuracy: 0.5868                                                                                    <span style=\"color: #800000; text-decoration-color: #800000; font-weight: bold\">│</span>\n",
              "<span style=\"color: #800000; text-decoration-color: #800000; font-weight: bold\">│</span>                                                                                                                 <span style=\"color: #800000; text-decoration-color: #800000; font-weight: bold\">│</span>\n",
              "<span style=\"color: #800000; text-decoration-color: #800000; font-weight: bold\">╰─────────────────────────────────────────────────────────────────────────────────────────────────────────────────╯</span>\n",
              "</pre>\n"
            ]
          },
          "metadata": {}
        },
        {
          "output_type": "display_data",
          "data": {
            "text/plain": [
              "\n",
              "------------------------------------------------------------------------------------------------------------------\n"
            ],
            "text/html": [
              "<pre style=\"white-space:pre;overflow-x:auto;line-height:normal;font-family:Menlo,'DejaVu Sans Mono',consolas,'Courier New',monospace\">\n",
              "------------------------------------------------------------------------------------------------------------------\n",
              "</pre>\n"
            ]
          },
          "metadata": {}
        },
        {
          "output_type": "display_data",
          "data": {
            "text/plain": [
              "\u001b[1;36m╭─\u001b[0m\u001b[1;36m Training Progress \u001b[0m\u001b[1;36m────────────────────────────────────────────────────────────────────────────────────────────\u001b[0m\u001b[1;36m─╮\u001b[0m\n",
              "\u001b[1;36m│\u001b[0m                                                                                                                 \u001b[1;36m│\u001b[0m\n",
              "\u001b[1;36m│\u001b[0m  Epoch 08/10                                                                                                    \u001b[1;36m│\u001b[0m\n",
              "\u001b[1;36m│\u001b[0m                                                                                                                 \u001b[1;36m│\u001b[0m\n",
              "\u001b[1;36m╰─────────────────────────────────────────────────────────────────────────────────────────────────────────────────╯\u001b[0m\n"
            ],
            "text/html": [
              "<pre style=\"white-space:pre;overflow-x:auto;line-height:normal;font-family:Menlo,'DejaVu Sans Mono',consolas,'Courier New',monospace\"><span style=\"color: #008080; text-decoration-color: #008080; font-weight: bold\">╭─ Training Progress ─────────────────────────────────────────────────────────────────────────────────────────────╮</span>\n",
              "<span style=\"color: #008080; text-decoration-color: #008080; font-weight: bold\">│</span>                                                                                                                 <span style=\"color: #008080; text-decoration-color: #008080; font-weight: bold\">│</span>\n",
              "<span style=\"color: #008080; text-decoration-color: #008080; font-weight: bold\">│</span>  Epoch 08/10                                                                                                    <span style=\"color: #008080; text-decoration-color: #008080; font-weight: bold\">│</span>\n",
              "<span style=\"color: #008080; text-decoration-color: #008080; font-weight: bold\">│</span>                                                                                                                 <span style=\"color: #008080; text-decoration-color: #008080; font-weight: bold\">│</span>\n",
              "<span style=\"color: #008080; text-decoration-color: #008080; font-weight: bold\">╰─────────────────────────────────────────────────────────────────────────────────────────────────────────────────╯</span>\n",
              "</pre>\n"
            ]
          },
          "metadata": {}
        },
        {
          "output_type": "display_data",
          "data": {
            "text/plain": [
              "\u001b[1;31m╭─\u001b[0m\u001b[1;31m───────────────────────────────────────────────────\u001b[0m\u001b[1;31m Summary \u001b[0m\u001b[1;31m───────────────────────────────────────────────────\u001b[0m\u001b[1;31m─╮\u001b[0m\n",
              "\u001b[1;31m│\u001b[0m                                                                                                                 \u001b[1;31m│\u001b[0m\n",
              "\u001b[1;31m│\u001b[0m  Train Loss: 0.3406                                                                                             \u001b[1;31m│\u001b[0m\n",
              "\u001b[1;31m│\u001b[0m  Train Accuracy: 0.8798                                                                                         \u001b[1;31m│\u001b[0m\n",
              "\u001b[1;31m│\u001b[0m  Validation Loss: 1.3017                                                                                        \u001b[1;31m│\u001b[0m\n",
              "\u001b[1;31m│\u001b[0m  Validation Accuracy: 0.5475                                                                                    \u001b[1;31m│\u001b[0m\n",
              "\u001b[1;31m│\u001b[0m                                                                                                                 \u001b[1;31m│\u001b[0m\n",
              "\u001b[1;31m╰─────────────────────────────────────────────────────────────────────────────────────────────────────────────────╯\u001b[0m\n"
            ],
            "text/html": [
              "<pre style=\"white-space:pre;overflow-x:auto;line-height:normal;font-family:Menlo,'DejaVu Sans Mono',consolas,'Courier New',monospace\"><span style=\"color: #800000; text-decoration-color: #800000; font-weight: bold\">╭──────────────────────────────────────────────────── Summary ────────────────────────────────────────────────────╮</span>\n",
              "<span style=\"color: #800000; text-decoration-color: #800000; font-weight: bold\">│</span>                                                                                                                 <span style=\"color: #800000; text-decoration-color: #800000; font-weight: bold\">│</span>\n",
              "<span style=\"color: #800000; text-decoration-color: #800000; font-weight: bold\">│</span>  Train Loss: 0.3406                                                                                             <span style=\"color: #800000; text-decoration-color: #800000; font-weight: bold\">│</span>\n",
              "<span style=\"color: #800000; text-decoration-color: #800000; font-weight: bold\">│</span>  Train Accuracy: 0.8798                                                                                         <span style=\"color: #800000; text-decoration-color: #800000; font-weight: bold\">│</span>\n",
              "<span style=\"color: #800000; text-decoration-color: #800000; font-weight: bold\">│</span>  Validation Loss: 1.3017                                                                                        <span style=\"color: #800000; text-decoration-color: #800000; font-weight: bold\">│</span>\n",
              "<span style=\"color: #800000; text-decoration-color: #800000; font-weight: bold\">│</span>  Validation Accuracy: 0.5475                                                                                    <span style=\"color: #800000; text-decoration-color: #800000; font-weight: bold\">│</span>\n",
              "<span style=\"color: #800000; text-decoration-color: #800000; font-weight: bold\">│</span>                                                                                                                 <span style=\"color: #800000; text-decoration-color: #800000; font-weight: bold\">│</span>\n",
              "<span style=\"color: #800000; text-decoration-color: #800000; font-weight: bold\">╰─────────────────────────────────────────────────────────────────────────────────────────────────────────────────╯</span>\n",
              "</pre>\n"
            ]
          },
          "metadata": {}
        },
        {
          "output_type": "display_data",
          "data": {
            "text/plain": [
              "\n",
              "------------------------------------------------------------------------------------------------------------------\n"
            ],
            "text/html": [
              "<pre style=\"white-space:pre;overflow-x:auto;line-height:normal;font-family:Menlo,'DejaVu Sans Mono',consolas,'Courier New',monospace\">\n",
              "------------------------------------------------------------------------------------------------------------------\n",
              "</pre>\n"
            ]
          },
          "metadata": {}
        },
        {
          "output_type": "display_data",
          "data": {
            "text/plain": [
              "\u001b[1;36m╭─\u001b[0m\u001b[1;36m Training Progress \u001b[0m\u001b[1;36m────────────────────────────────────────────────────────────────────────────────────────────\u001b[0m\u001b[1;36m─╮\u001b[0m\n",
              "\u001b[1;36m│\u001b[0m                                                                                                                 \u001b[1;36m│\u001b[0m\n",
              "\u001b[1;36m│\u001b[0m  Epoch 09/10                                                                                                    \u001b[1;36m│\u001b[0m\n",
              "\u001b[1;36m│\u001b[0m                                                                                                                 \u001b[1;36m│\u001b[0m\n",
              "\u001b[1;36m╰─────────────────────────────────────────────────────────────────────────────────────────────────────────────────╯\u001b[0m\n"
            ],
            "text/html": [
              "<pre style=\"white-space:pre;overflow-x:auto;line-height:normal;font-family:Menlo,'DejaVu Sans Mono',consolas,'Courier New',monospace\"><span style=\"color: #008080; text-decoration-color: #008080; font-weight: bold\">╭─ Training Progress ─────────────────────────────────────────────────────────────────────────────────────────────╮</span>\n",
              "<span style=\"color: #008080; text-decoration-color: #008080; font-weight: bold\">│</span>                                                                                                                 <span style=\"color: #008080; text-decoration-color: #008080; font-weight: bold\">│</span>\n",
              "<span style=\"color: #008080; text-decoration-color: #008080; font-weight: bold\">│</span>  Epoch 09/10                                                                                                    <span style=\"color: #008080; text-decoration-color: #008080; font-weight: bold\">│</span>\n",
              "<span style=\"color: #008080; text-decoration-color: #008080; font-weight: bold\">│</span>                                                                                                                 <span style=\"color: #008080; text-decoration-color: #008080; font-weight: bold\">│</span>\n",
              "<span style=\"color: #008080; text-decoration-color: #008080; font-weight: bold\">╰─────────────────────────────────────────────────────────────────────────────────────────────────────────────────╯</span>\n",
              "</pre>\n"
            ]
          },
          "metadata": {}
        },
        {
          "output_type": "display_data",
          "data": {
            "text/plain": [
              "\u001b[1;31m╭─\u001b[0m\u001b[1;31m───────────────────────────────────────────────────\u001b[0m\u001b[1;31m Summary \u001b[0m\u001b[1;31m───────────────────────────────────────────────────\u001b[0m\u001b[1;31m─╮\u001b[0m\n",
              "\u001b[1;31m│\u001b[0m                                                                                                                 \u001b[1;31m│\u001b[0m\n",
              "\u001b[1;31m│\u001b[0m  Train Loss: 0.2565                                                                                             \u001b[1;31m│\u001b[0m\n",
              "\u001b[1;31m│\u001b[0m  Train Accuracy: 0.9147                                                                                         \u001b[1;31m│\u001b[0m\n",
              "\u001b[1;31m│\u001b[0m  Validation Loss: 1.6514                                                                                        \u001b[1;31m│\u001b[0m\n",
              "\u001b[1;31m│\u001b[0m  Validation Accuracy: 0.5609                                                                                    \u001b[1;31m│\u001b[0m\n",
              "\u001b[1;31m│\u001b[0m                                                                                                                 \u001b[1;31m│\u001b[0m\n",
              "\u001b[1;31m╰─────────────────────────────────────────────────────────────────────────────────────────────────────────────────╯\u001b[0m\n"
            ],
            "text/html": [
              "<pre style=\"white-space:pre;overflow-x:auto;line-height:normal;font-family:Menlo,'DejaVu Sans Mono',consolas,'Courier New',monospace\"><span style=\"color: #800000; text-decoration-color: #800000; font-weight: bold\">╭──────────────────────────────────────────────────── Summary ────────────────────────────────────────────────────╮</span>\n",
              "<span style=\"color: #800000; text-decoration-color: #800000; font-weight: bold\">│</span>                                                                                                                 <span style=\"color: #800000; text-decoration-color: #800000; font-weight: bold\">│</span>\n",
              "<span style=\"color: #800000; text-decoration-color: #800000; font-weight: bold\">│</span>  Train Loss: 0.2565                                                                                             <span style=\"color: #800000; text-decoration-color: #800000; font-weight: bold\">│</span>\n",
              "<span style=\"color: #800000; text-decoration-color: #800000; font-weight: bold\">│</span>  Train Accuracy: 0.9147                                                                                         <span style=\"color: #800000; text-decoration-color: #800000; font-weight: bold\">│</span>\n",
              "<span style=\"color: #800000; text-decoration-color: #800000; font-weight: bold\">│</span>  Validation Loss: 1.6514                                                                                        <span style=\"color: #800000; text-decoration-color: #800000; font-weight: bold\">│</span>\n",
              "<span style=\"color: #800000; text-decoration-color: #800000; font-weight: bold\">│</span>  Validation Accuracy: 0.5609                                                                                    <span style=\"color: #800000; text-decoration-color: #800000; font-weight: bold\">│</span>\n",
              "<span style=\"color: #800000; text-decoration-color: #800000; font-weight: bold\">│</span>                                                                                                                 <span style=\"color: #800000; text-decoration-color: #800000; font-weight: bold\">│</span>\n",
              "<span style=\"color: #800000; text-decoration-color: #800000; font-weight: bold\">╰─────────────────────────────────────────────────────────────────────────────────────────────────────────────────╯</span>\n",
              "</pre>\n"
            ]
          },
          "metadata": {}
        },
        {
          "output_type": "display_data",
          "data": {
            "text/plain": [
              "\n",
              "------------------------------------------------------------------------------------------------------------------\n"
            ],
            "text/html": [
              "<pre style=\"white-space:pre;overflow-x:auto;line-height:normal;font-family:Menlo,'DejaVu Sans Mono',consolas,'Courier New',monospace\">\n",
              "------------------------------------------------------------------------------------------------------------------\n",
              "</pre>\n"
            ]
          },
          "metadata": {}
        },
        {
          "output_type": "display_data",
          "data": {
            "text/plain": [
              "\u001b[1;36m╭─\u001b[0m\u001b[1;36m Training Progress \u001b[0m\u001b[1;36m────────────────────────────────────────────────────────────────────────────────────────────\u001b[0m\u001b[1;36m─╮\u001b[0m\n",
              "\u001b[1;36m│\u001b[0m                                                                                                                 \u001b[1;36m│\u001b[0m\n",
              "\u001b[1;36m│\u001b[0m  Epoch 10/10                                                                                                    \u001b[1;36m│\u001b[0m\n",
              "\u001b[1;36m│\u001b[0m                                                                                                                 \u001b[1;36m│\u001b[0m\n",
              "\u001b[1;36m╰─────────────────────────────────────────────────────────────────────────────────────────────────────────────────╯\u001b[0m\n"
            ],
            "text/html": [
              "<pre style=\"white-space:pre;overflow-x:auto;line-height:normal;font-family:Menlo,'DejaVu Sans Mono',consolas,'Courier New',monospace\"><span style=\"color: #008080; text-decoration-color: #008080; font-weight: bold\">╭─ Training Progress ─────────────────────────────────────────────────────────────────────────────────────────────╮</span>\n",
              "<span style=\"color: #008080; text-decoration-color: #008080; font-weight: bold\">│</span>                                                                                                                 <span style=\"color: #008080; text-decoration-color: #008080; font-weight: bold\">│</span>\n",
              "<span style=\"color: #008080; text-decoration-color: #008080; font-weight: bold\">│</span>  Epoch 10/10                                                                                                    <span style=\"color: #008080; text-decoration-color: #008080; font-weight: bold\">│</span>\n",
              "<span style=\"color: #008080; text-decoration-color: #008080; font-weight: bold\">│</span>                                                                                                                 <span style=\"color: #008080; text-decoration-color: #008080; font-weight: bold\">│</span>\n",
              "<span style=\"color: #008080; text-decoration-color: #008080; font-weight: bold\">╰─────────────────────────────────────────────────────────────────────────────────────────────────────────────────╯</span>\n",
              "</pre>\n"
            ]
          },
          "metadata": {}
        },
        {
          "output_type": "display_data",
          "data": {
            "text/plain": [
              "\u001b[1;31m╭─\u001b[0m\u001b[1;31m───────────────────────────────────────────────────\u001b[0m\u001b[1;31m Summary \u001b[0m\u001b[1;31m───────────────────────────────────────────────────\u001b[0m\u001b[1;31m─╮\u001b[0m\n",
              "\u001b[1;31m│\u001b[0m                                                                                                                 \u001b[1;31m│\u001b[0m\n",
              "\u001b[1;31m│\u001b[0m  Train Loss: 0.1877                                                                                             \u001b[1;31m│\u001b[0m\n",
              "\u001b[1;31m│\u001b[0m  Train Accuracy: 0.9407                                                                                         \u001b[1;31m│\u001b[0m\n",
              "\u001b[1;31m│\u001b[0m  Validation Loss: 1.8853                                                                                        \u001b[1;31m│\u001b[0m\n",
              "\u001b[1;31m│\u001b[0m  Validation Accuracy: 0.5591                                                                                    \u001b[1;31m│\u001b[0m\n",
              "\u001b[1;31m│\u001b[0m                                                                                                                 \u001b[1;31m│\u001b[0m\n",
              "\u001b[1;31m╰─────────────────────────────────────────────────────────────────────────────────────────────────────────────────╯\u001b[0m\n"
            ],
            "text/html": [
              "<pre style=\"white-space:pre;overflow-x:auto;line-height:normal;font-family:Menlo,'DejaVu Sans Mono',consolas,'Courier New',monospace\"><span style=\"color: #800000; text-decoration-color: #800000; font-weight: bold\">╭──────────────────────────────────────────────────── Summary ────────────────────────────────────────────────────╮</span>\n",
              "<span style=\"color: #800000; text-decoration-color: #800000; font-weight: bold\">│</span>                                                                                                                 <span style=\"color: #800000; text-decoration-color: #800000; font-weight: bold\">│</span>\n",
              "<span style=\"color: #800000; text-decoration-color: #800000; font-weight: bold\">│</span>  Train Loss: 0.1877                                                                                             <span style=\"color: #800000; text-decoration-color: #800000; font-weight: bold\">│</span>\n",
              "<span style=\"color: #800000; text-decoration-color: #800000; font-weight: bold\">│</span>  Train Accuracy: 0.9407                                                                                         <span style=\"color: #800000; text-decoration-color: #800000; font-weight: bold\">│</span>\n",
              "<span style=\"color: #800000; text-decoration-color: #800000; font-weight: bold\">│</span>  Validation Loss: 1.8853                                                                                        <span style=\"color: #800000; text-decoration-color: #800000; font-weight: bold\">│</span>\n",
              "<span style=\"color: #800000; text-decoration-color: #800000; font-weight: bold\">│</span>  Validation Accuracy: 0.5591                                                                                    <span style=\"color: #800000; text-decoration-color: #800000; font-weight: bold\">│</span>\n",
              "<span style=\"color: #800000; text-decoration-color: #800000; font-weight: bold\">│</span>                                                                                                                 <span style=\"color: #800000; text-decoration-color: #800000; font-weight: bold\">│</span>\n",
              "<span style=\"color: #800000; text-decoration-color: #800000; font-weight: bold\">╰─────────────────────────────────────────────────────────────────────────────────────────────────────────────────╯</span>\n",
              "</pre>\n"
            ]
          },
          "metadata": {}
        },
        {
          "output_type": "display_data",
          "data": {
            "text/plain": [
              "\n",
              "------------------------------------------------------------------------------------------------------------------\n"
            ],
            "text/html": [
              "<pre style=\"white-space:pre;overflow-x:auto;line-height:normal;font-family:Menlo,'DejaVu Sans Mono',consolas,'Courier New',monospace\">\n",
              "------------------------------------------------------------------------------------------------------------------\n",
              "</pre>\n"
            ]
          },
          "metadata": {}
        }
      ]
    }
  ]
}